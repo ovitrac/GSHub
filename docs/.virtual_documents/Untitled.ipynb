








# Ka, Kb, M0, D0, and Tg defined above
# Produces a dataset df with columns: Polymer, M, T, alpha, D
import numpy as np
import pandas as pd
from IPython.display import HTML

pd.set_option("display.max_rows", 100)        # Show more rows
pd.set_option("display.max_columns", 20)      # Show more columns
pd.set_option("display.width", 1000)          # Set display width
pd.set_option("display.float_format", "{:.3g}".format)  # Format floats


Ka, Kb = 140, 40  # guess constants
M0, D0 = 100, 1e-9  # reference values

polymers = {
    'PP': {'Tg': 273, 'r': 1.0},
    'HDPE': {'Tg': 173, 'r': 1.0}
}

M_values = np.linspace(40, 500, 7)
T_values = np.linspace(23, 100, 7) + 273.15

data = []
for polymer, props in polymers.items():
    Tg, r = props['Tg'], props['r']
    for M in M_values:
        for T in T_values:
            alpha = 1 + Ka / (Kb + r * (T - Tg))
            D = D0 * (M / M0) ** (-alpha)
            data.append({
                'Polymer': polymer,
                'M': M,
                'T': T,
                'Tg': Tg,
                'alpha': alpha,
                'D': D
            })

df = pd.DataFrame(data)

HTML(df.to_html())
#print(df.to_html())





# Generates contrastive_df with inputs and log-ratio targets
from itertools import combinations

df['logD'] = np.log(df['D'])
contrastive_data = []

for polymer in df['Polymer'].unique():
    subset = df[df['Polymer'] == polymer].reset_index(drop=True)
    for i, j in combinations(range(len(subset)), 2):
        row_i, row_j = subset.loc[i], subset.loc[j]
        contrastive_data.append({
            'Polymer': polymer,
            'logM_ratio': np.log(row_i['M'] / row_j['M']),
            'invT_diff': (1 / row_i['T']) - (1 / row_j['T']),
            'Tg_diff': row_i['Tg'] - row_j['Tg'],
            'logD_ratio': row_i['logD'] - row_j['logD']
        })

contrastive_df = pd.DataFrame(contrastive_data)
print(f"Generated {len(contrastive_df)} contrastive pairs")




